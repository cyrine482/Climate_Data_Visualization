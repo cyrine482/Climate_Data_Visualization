{
 "cells": [
  {
   "cell_type": "code",
   "execution_count": 1,
   "id": "177d6a1b",
   "metadata": {},
   "outputs": [],
   "source": [
    "import netCDF4\n",
    "from netCDF4 import num2date\n",
    "import numpy as np\n",
    "import os\n",
    "import pandas as pd"
   ]
  },
  {
   "cell_type": "markdown",
   "id": "4b95635f",
   "metadata": {},
   "source": [
    " ## all files "
   ]
  },
  {
   "cell_type": "code",
   "execution_count": 2,
   "id": "1486a5cc",
   "metadata": {
    "scrolled": false
   },
   "outputs": [
    {
     "name": "stdout",
     "output_type": "stream",
     "text": [
      "C:\\\\Users\\\\tenin\\\\Documents\\\\BIMS\\\\papier tick\\\\Climate model\\\\projection\\\\CMC2r8DADtas111v120717_1-10\\tas_day_CMCC-CMS_rcp85_r1i1p1_20060101-20091231.nc\n",
      "C:\\\\Users\\\\tenin\\\\Documents\\\\BIMS\\\\papier tick\\\\Climate model\\\\projection\\\\CMC2r8DADtas111v120717_1-10\\tas_day_CMCC-CMS_rcp85_r1i1p1_20100101-20191231.nc\n",
      "C:\\\\Users\\\\tenin\\\\Documents\\\\BIMS\\\\papier tick\\\\Climate model\\\\projection\\\\CMC2r8DADtas111v120717_1-10\\tas_day_CMCC-CMS_rcp85_r1i1p1_20200101-20291231.nc\n",
      "C:\\\\Users\\\\tenin\\\\Documents\\\\BIMS\\\\papier tick\\\\Climate model\\\\projection\\\\CMC2r8DADtas111v120717_1-10\\tas_day_CMCC-CMS_rcp85_r1i1p1_20300101-20391231.nc\n",
      "C:\\\\Users\\\\tenin\\\\Documents\\\\BIMS\\\\papier tick\\\\Climate model\\\\projection\\\\CMC2r8DADtas111v120717_1-10\\tas_day_CMCC-CMS_rcp85_r1i1p1_20400101-20491231.nc\n",
      "C:\\\\Users\\\\tenin\\\\Documents\\\\BIMS\\\\papier tick\\\\Climate model\\\\projection\\\\CMC2r8DADtas111v120717_1-10\\tas_day_CMCC-CMS_rcp85_r1i1p1_20500101-20591231.nc\n",
      "C:\\\\Users\\\\tenin\\\\Documents\\\\BIMS\\\\papier tick\\\\Climate model\\\\projection\\\\CMC2r8DADtas111v120717_1-10\\tas_day_CMCC-CMS_rcp85_r1i1p1_20600101-20691231.nc\n",
      "C:\\\\Users\\\\tenin\\\\Documents\\\\BIMS\\\\papier tick\\\\Climate model\\\\projection\\\\CMC2r8DADtas111v120717_1-10\\tas_day_CMCC-CMS_rcp85_r1i1p1_20700101-20791231.nc\n",
      "C:\\\\Users\\\\tenin\\\\Documents\\\\BIMS\\\\papier tick\\\\Climate model\\\\projection\\\\CMC2r8DADtas111v120717_1-10\\tas_day_CMCC-CMS_rcp85_r1i1p1_20800101-20891231.nc\n",
      "C:\\\\Users\\\\tenin\\\\Documents\\\\BIMS\\\\papier tick\\\\Climate model\\\\projection\\\\CMC2r8DADtas111v120717_1-10\\tas_day_CMCC-CMS_rcp85_r1i1p1_20900101-21001231.nc\n",
      "C:\\\\Users\\\\tenin\\\\Documents\\\\BIMS\\\\papier tick\\\\Climate model\\\\projection\\\\CMC2r8DADtas111v120717_1-10\\tas_day_CMCC-CMS_rcp85_r1i1p1_20060101-20091231.nc\n",
      "C:\\\\Users\\\\tenin\\\\Documents\\\\BIMS\\\\papier tick\\\\Climate model\\\\projection\\\\CMC2r8DADtas111v120717_1-10\\tas_day_CMCC-CMS_rcp85_r1i1p1_20100101-20191231.nc\n",
      "C:\\\\Users\\\\tenin\\\\Documents\\\\BIMS\\\\papier tick\\\\Climate model\\\\projection\\\\CMC2r8DADtas111v120717_1-10\\tas_day_CMCC-CMS_rcp85_r1i1p1_20200101-20291231.nc\n",
      "C:\\\\Users\\\\tenin\\\\Documents\\\\BIMS\\\\papier tick\\\\Climate model\\\\projection\\\\CMC2r8DADtas111v120717_1-10\\tas_day_CMCC-CMS_rcp85_r1i1p1_20300101-20391231.nc\n",
      "C:\\\\Users\\\\tenin\\\\Documents\\\\BIMS\\\\papier tick\\\\Climate model\\\\projection\\\\CMC2r8DADtas111v120717_1-10\\tas_day_CMCC-CMS_rcp85_r1i1p1_20400101-20491231.nc\n",
      "C:\\\\Users\\\\tenin\\\\Documents\\\\BIMS\\\\papier tick\\\\Climate model\\\\projection\\\\CMC2r8DADtas111v120717_1-10\\tas_day_CMCC-CMS_rcp85_r1i1p1_20500101-20591231.nc\n",
      "C:\\\\Users\\\\tenin\\\\Documents\\\\BIMS\\\\papier tick\\\\Climate model\\\\projection\\\\CMC2r8DADtas111v120717_1-10\\tas_day_CMCC-CMS_rcp85_r1i1p1_20600101-20691231.nc\n",
      "C:\\\\Users\\\\tenin\\\\Documents\\\\BIMS\\\\papier tick\\\\Climate model\\\\projection\\\\CMC2r8DADtas111v120717_1-10\\tas_day_CMCC-CMS_rcp85_r1i1p1_20700101-20791231.nc\n",
      "C:\\\\Users\\\\tenin\\\\Documents\\\\BIMS\\\\papier tick\\\\Climate model\\\\projection\\\\CMC2r8DADtas111v120717_1-10\\tas_day_CMCC-CMS_rcp85_r1i1p1_20800101-20891231.nc\n",
      "C:\\\\Users\\\\tenin\\\\Documents\\\\BIMS\\\\papier tick\\\\Climate model\\\\projection\\\\CMC2r8DADtas111v120717_1-10\\tas_day_CMCC-CMS_rcp85_r1i1p1_20900101-21001231.nc\n"
     ]
    }
   ],
   "source": [
    "# Récupération des fichiers\n",
    "paths = []\n",
    "for root, dirs, files in os.walk(r\"C:\\\\Users\\\\tenin\\\\Documents\\\\BIMS\\\\papier tick\\\\Climate model\\\\projection\\\\CMC2r8DADtas111v120717_1-10\"):\n",
    "    for file in files:\n",
    "        if file.endswith(\".nc\"):\n",
    "             s = os.path.join(root, file)\n",
    "             print(s)\n",
    "             paths.append(s)"
   ]
  },
  {
   "cell_type": "code",
   "execution_count": 3,
   "id": "5fc33a3b",
   "metadata": {},
   "outputs": [],
   "source": [
    "def kelvinToCelsius(kelvin):\n",
    "    return kelvin - 273.15"
   ]
  },
  {
   "cell_type": "code",
   "execution_count": 4,
   "id": "032c17de",
   "metadata": {
    "scrolled": true
   },
   "outputs": [
    {
     "name": "stdout",
     "output_type": "stream",
     "text": [
      "Writing data in tabular form to ./tas_day_CMCC-CMS_rcp85_r1i1p1_0.csv (this may take some time)...\n",
      "Writing data in tabular form to ./tas_day_CMCC-CMS_rcp85_r1i1p1_0.csv (this may take some time)...\n",
      "Done\n",
      "Done\n",
      "Writing data in tabular form to ./tas_day_CMCC-CMS_rcp85_r1i1p1_1.csv (this may take some time)...\n",
      "Writing data in tabular form to ./tas_day_CMCC-CMS_rcp85_r1i1p1_1.csv (this may take some time)...\n",
      "Done\n",
      "Done\n",
      "Writing data in tabular form to ./tas_day_CMCC-CMS_rcp85_r1i1p1_2.csv (this may take some time)...\n",
      "Writing data in tabular form to ./tas_day_CMCC-CMS_rcp85_r1i1p1_2.csv (this may take some time)...\n",
      "Done\n",
      "Done\n",
      "Writing data in tabular form to ./tas_day_CMCC-CMS_rcp85_r1i1p1_3.csv (this may take some time)...\n",
      "Writing data in tabular form to ./tas_day_CMCC-CMS_rcp85_r1i1p1_3.csv (this may take some time)...\n",
      "Done\n",
      "Done\n",
      "Writing data in tabular form to ./tas_day_CMCC-CMS_rcp85_r1i1p1_4.csv (this may take some time)...\n",
      "Writing data in tabular form to ./tas_day_CMCC-CMS_rcp85_r1i1p1_4.csv (this may take some time)...\n",
      "Done\n",
      "Done\n",
      "Writing data in tabular form to ./tas_day_CMCC-CMS_rcp85_r1i1p1_5.csv (this may take some time)...\n",
      "Writing data in tabular form to ./tas_day_CMCC-CMS_rcp85_r1i1p1_5.csv (this may take some time)...\n",
      "Done\n",
      "Done\n",
      "Writing data in tabular form to ./tas_day_CMCC-CMS_rcp85_r1i1p1_6.csv (this may take some time)...\n",
      "Writing data in tabular form to ./tas_day_CMCC-CMS_rcp85_r1i1p1_6.csv (this may take some time)...\n",
      "Done\n",
      "Done\n",
      "Writing data in tabular form to ./tas_day_CMCC-CMS_rcp85_r1i1p1_7.csv (this may take some time)...\n",
      "Writing data in tabular form to ./tas_day_CMCC-CMS_rcp85_r1i1p1_7.csv (this may take some time)...\n",
      "Done\n",
      "Writing data in tabular form to ./tas_day_CMCC-CMS_rcp85_r1i1p1_8.csv (this may take some time)...\n",
      "Done\n",
      "Writing data in tabular form to ./tas_day_CMCC-CMS_rcp85_r1i1p1_9.csv (this may take some time)...\n",
      "Done\n"
     ]
    }
   ],
   "source": [
    "for f in range(len(paths)):\n",
    "    df = netCDF4.Dataset(paths[f])\n",
    "    #print(df.__dict__)\n",
    "    #for dim in df.dimensions.values():\n",
    "     #   print(dim)\n",
    "       # for var in df.variables.values():\n",
    "         #   print(var)\n",
    "    tas = df['tas'][:]\n",
    "    tas = df.variables['tas']\n",
    "    time_dim, lat_dim, lon_dim = tas.get_dims()\n",
    "    time_var = df.variables[time_dim.name]\n",
    "    times = num2date(time_var[:], time_var.units)\n",
    "    latitudes = df.variables[lat_dim.name][:]\n",
    "    longitudes = df.variables[lon_dim.name][:]\n",
    "    output_dir = './'\n",
    "    filename = os.path.join(output_dir, f'tas_day_CMCC-CMS_rcp85_r1i1p1_{f}.csv')\n",
    "    print(f'Writing data in tabular form to {filename} (this may take some time)...')\n",
    "    times_grid, latitudes_grid, longitudes_grid = [\n",
    "    x.flatten() for x in np.meshgrid(times, latitudes, longitudes, indexing='ij')]\n",
    "    df1 = pd.DataFrame({\n",
    "        'time': [t.isoformat() for t in times_grid],\n",
    "        'latitude': latitudes_grid,\n",
    "        'longitude': longitudes_grid,\n",
    "        'tas': tas[:].flatten()})\n",
    "    df1.to_csv(filename, index=False)\n",
    "    print('Done')"
   ]
  },
  {
   "cell_type": "code",
   "execution_count": 7,
   "id": "1d3f2c21",
   "metadata": {},
   "outputs": [
    {
     "name": "stdout",
     "output_type": "stream",
     "text": [
      "C:\\\\Users\\\\tenin\\\\Documents\\\\BIMS\\\\papier tick\\\\Climate model\\\\projection\\\\CMC2r8DADtas111v120717_1-10\\tas_day_CMCC-CMS_rcp85_r1i1p1_0.csv\n",
      "C:\\\\Users\\\\tenin\\\\Documents\\\\BIMS\\\\papier tick\\\\Climate model\\\\projection\\\\CMC2r8DADtas111v120717_1-10\\tas_day_CMCC-CMS_rcp85_r1i1p1_1.csv\n",
      "C:\\\\Users\\\\tenin\\\\Documents\\\\BIMS\\\\papier tick\\\\Climate model\\\\projection\\\\CMC2r8DADtas111v120717_1-10\\tas_day_CMCC-CMS_rcp85_r1i1p1_2.csv\n",
      "C:\\\\Users\\\\tenin\\\\Documents\\\\BIMS\\\\papier tick\\\\Climate model\\\\projection\\\\CMC2r8DADtas111v120717_1-10\\tas_day_CMCC-CMS_rcp85_r1i1p1_3.csv\n",
      "C:\\\\Users\\\\tenin\\\\Documents\\\\BIMS\\\\papier tick\\\\Climate model\\\\projection\\\\CMC2r8DADtas111v120717_1-10\\tas_day_CMCC-CMS_rcp85_r1i1p1_4.csv\n",
      "C:\\\\Users\\\\tenin\\\\Documents\\\\BIMS\\\\papier tick\\\\Climate model\\\\projection\\\\CMC2r8DADtas111v120717_1-10\\tas_day_CMCC-CMS_rcp85_r1i1p1_5.csv\n",
      "C:\\\\Users\\\\tenin\\\\Documents\\\\BIMS\\\\papier tick\\\\Climate model\\\\projection\\\\CMC2r8DADtas111v120717_1-10\\tas_day_CMCC-CMS_rcp85_r1i1p1_6.csv\n",
      "C:\\\\Users\\\\tenin\\\\Documents\\\\BIMS\\\\papier tick\\\\Climate model\\\\projection\\\\CMC2r8DADtas111v120717_1-10\\tas_day_CMCC-CMS_rcp85_r1i1p1_7.csv\n",
      "C:\\\\Users\\\\tenin\\\\Documents\\\\BIMS\\\\papier tick\\\\Climate model\\\\projection\\\\CMC2r8DADtas111v120717_1-10\\tas_day_CMCC-CMS_rcp85_r1i1p1_8.csv\n",
      "C:\\\\Users\\\\tenin\\\\Documents\\\\BIMS\\\\papier tick\\\\Climate model\\\\projection\\\\CMC2r8DADtas111v120717_1-10\\tas_day_CMCC-CMS_rcp85_r1i1p1_9.csv\n"
     ]
    }
   ],
   "source": [
    "# Récupération des fichiers\n",
    "paths = []\n",
    "for root, dirs, files in os.walk(r\"C:\\\\Users\\\\tenin\\\\Documents\\\\BIMS\\\\papier tick\\\\Climate model\\\\projection\\\\CMC2r8DADtas111v120717_1-10\"):\n",
    "    for file in files:\n",
    "        if file.endswith(\".csv\"):\n",
    "             s = os.path.join(root, file)\n",
    "             print(s)\n",
    "             paths.append(s)"
   ]
  },
  {
   "cell_type": "code",
   "execution_count": 8,
   "id": "51080725",
   "metadata": {},
   "outputs": [
    {
     "name": "stderr",
     "output_type": "stream",
     "text": [
      "C:\\Users\\tenin\\AppData\\Local\\Temp/ipykernel_25580/3065259920.py:5: SettingWithCopyWarning: \n",
      "A value is trying to be set on a copy of a slice from a DataFrame.\n",
      "Try using .loc[row_indexer,col_indexer] = value instead\n",
      "\n",
      "See the caveats in the documentation: https://pandas.pydata.org/pandas-docs/stable/user_guide/indexing.html#returning-a-view-versus-a-copy\n",
      "  p2['tas_in_C']= kelvinToCelsius(p2['tas'])\n"
     ]
    },
    {
     "name": "stdout",
     "output_type": "stream",
     "text": [
      "Writing data in tabular form to ./tas_day_CMCC-CESM_rcp85_r1i1p_37_12_36_9_0.csv (this may take some time)...\n",
      "Done\n",
      "Writing data in tabular form to ./tas_day_CMCC-CESM_rcp85_r1i1p_37_12_36_9_1.csv (this may take some time)...\n",
      "Done\n",
      "Writing data in tabular form to ./tas_day_CMCC-CESM_rcp85_r1i1p_37_12_36_9_2.csv (this may take some time)...\n",
      "Done\n",
      "Writing data in tabular form to ./tas_day_CMCC-CESM_rcp85_r1i1p_37_12_36_9_3.csv (this may take some time)...\n",
      "Done\n",
      "Writing data in tabular form to ./tas_day_CMCC-CESM_rcp85_r1i1p_37_12_36_9_4.csv (this may take some time)...\n",
      "Done\n",
      "Writing data in tabular form to ./tas_day_CMCC-CESM_rcp85_r1i1p_37_12_36_9_5.csv (this may take some time)...\n",
      "Done\n",
      "Writing data in tabular form to ./tas_day_CMCC-CESM_rcp85_r1i1p_37_12_36_9_6.csv (this may take some time)...\n",
      "Done\n",
      "Writing data in tabular form to ./tas_day_CMCC-CESM_rcp85_r1i1p_37_12_36_9_7.csv (this may take some time)...\n",
      "Done\n",
      "Writing data in tabular form to ./tas_day_CMCC-CESM_rcp85_r1i1p_37_12_36_9_8.csv (this may take some time)...\n",
      "Done\n",
      "Writing data in tabular form to ./tas_day_CMCC-CESM_rcp85_r1i1p_37_12_36_9_9.csv (this may take some time)...\n",
      "Done\n"
     ]
    }
   ],
   "source": [
    "for f in range(len(paths)):\n",
    "    df = pd.read_csv(paths[f])\n",
    "    p1=df.loc[(df['latitude'] <37) & (df['latitude'] >36)]\n",
    "    p2=p1.loc[(p1['longitude'] <12) &  (p1['longitude']>9)]\n",
    "    p2['tas_in_C']= kelvinToCelsius(p2['tas'])\n",
    "    output_dir = './'\n",
    "    filename = os.path.join(output_dir, f'tas_day_CMCC-CESM_rcp85_r1i1p_37_12_36_9_{f}.csv')\n",
    "    print(f'Writing data in tabular form to {filename} (this may take some time)...')\n",
    "    p2.to_csv(filename, index=False)\n",
    "    print('Done')  "
   ]
  },
  {
   "cell_type": "code",
   "execution_count": 9,
   "id": "30654d8d",
   "metadata": {},
   "outputs": [
    {
     "name": "stderr",
     "output_type": "stream",
     "text": [
      "C:\\Users\\tenin\\AppData\\Local\\Temp/ipykernel_25580/3681802728.py:5: SettingWithCopyWarning: \n",
      "A value is trying to be set on a copy of a slice from a DataFrame.\n",
      "Try using .loc[row_indexer,col_indexer] = value instead\n",
      "\n",
      "See the caveats in the documentation: https://pandas.pydata.org/pandas-docs/stable/user_guide/indexing.html#returning-a-view-versus-a-copy\n",
      "  p2['tas_in_C']= kelvinToCelsius(p2['tas'])\n"
     ]
    },
    {
     "name": "stdout",
     "output_type": "stream",
     "text": [
      "Writing data in tabular form to ./tas_day_CMCC-CESM_rcp85_r1i1p_50_97_49_95_0.csv (this may take some time)...\n",
      "Done\n",
      "Writing data in tabular form to ./tas_day_CMCC-CESM_rcp85_r1i1p_50_97_49_95_1.csv (this may take some time)...\n",
      "Done\n",
      "Writing data in tabular form to ./tas_day_CMCC-CESM_rcp85_r1i1p_50_97_49_95_2.csv (this may take some time)...\n",
      "Done\n",
      "Writing data in tabular form to ./tas_day_CMCC-CESM_rcp85_r1i1p_50_97_49_95_3.csv (this may take some time)...\n",
      "Done\n",
      "Writing data in tabular form to ./tas_day_CMCC-CESM_rcp85_r1i1p_50_97_49_95_4.csv (this may take some time)...\n",
      "Done\n",
      "Writing data in tabular form to ./tas_day_CMCC-CESM_rcp85_r1i1p_50_97_49_95_5.csv (this may take some time)...\n",
      "Done\n",
      "Writing data in tabular form to ./tas_day_CMCC-CESM_rcp85_r1i1p_50_97_49_95_6.csv (this may take some time)...\n",
      "Done\n",
      "Writing data in tabular form to ./tas_day_CMCC-CESM_rcp85_r1i1p_50_97_49_95_7.csv (this may take some time)...\n",
      "Done\n",
      "Writing data in tabular form to ./tas_day_CMCC-CESM_rcp85_r1i1p_50_97_49_95_8.csv (this may take some time)...\n",
      "Done\n",
      "Writing data in tabular form to ./tas_day_CMCC-CESM_rcp85_r1i1p_50_97_49_95_9.csv (this may take some time)...\n",
      "Done\n"
     ]
    }
   ],
   "source": [
    "for f in range(len(paths)):\n",
    "    df = pd.read_csv(paths[f])\n",
    "    p1=df.loc[(df['latitude'] <50) & (df['latitude'] >49)]\n",
    "    p2=p1.loc[(p1['longitude'] <97.5) &  (p1['longitude']>95.6)]\n",
    "    p2['tas_in_C']= kelvinToCelsius(p2['tas'])\n",
    "    output_dir = './'\n",
    "    filename = os.path.join(output_dir, f'tas_day_CMCC-CESM_rcp85_r1i1p_50_97_49_95_{f}.csv')\n",
    "    print(f'Writing data in tabular form to {filename} (this may take some time)...')\n",
    "    p2.to_csv(filename, index=False)\n",
    "    print('Done')"
   ]
  },
  {
   "cell_type": "code",
   "execution_count": 10,
   "id": "c16b53a9",
   "metadata": {},
   "outputs": [
    {
     "name": "stdout",
     "output_type": "stream",
     "text": [
      "Writing data in tabular form to ./tas_day_CMCC-CESM_rcp85_r1i1p_14_13_14_13_0.csv (this may take some time)...\n",
      "Done\n",
      "Writing data in tabular form to ./tas_day_CMCC-CESM_rcp85_r1i1p_14_13_14_13_1.csv (this may take some time)...\n",
      "Done\n",
      "Writing data in tabular form to ./tas_day_CMCC-CESM_rcp85_r1i1p_14_13_14_13_2.csv (this may take some time)...\n",
      "Done\n",
      "Writing data in tabular form to ./tas_day_CMCC-CESM_rcp85_r1i1p_14_13_14_13_3.csv (this may take some time)...\n",
      "Done\n",
      "Writing data in tabular form to ./tas_day_CMCC-CESM_rcp85_r1i1p_14_13_14_13_4.csv (this may take some time)...\n",
      "Done\n",
      "Writing data in tabular form to ./tas_day_CMCC-CESM_rcp85_r1i1p_14_13_14_13_5.csv (this may take some time)...\n",
      "Done\n",
      "Writing data in tabular form to ./tas_day_CMCC-CESM_rcp85_r1i1p_14_13_14_13_6.csv (this may take some time)...\n",
      "Done\n",
      "Writing data in tabular form to ./tas_day_CMCC-CESM_rcp85_r1i1p_14_13_14_13_7.csv (this may take some time)...\n",
      "Done\n",
      "Writing data in tabular form to ./tas_day_CMCC-CESM_rcp85_r1i1p_14_13_14_13_8.csv (this may take some time)...\n",
      "Done\n",
      "Writing data in tabular form to ./tas_day_CMCC-CESM_rcp85_r1i1p_14_13_14_13_9.csv (this may take some time)...\n",
      "Done\n"
     ]
    }
   ],
   "source": [
    "for f in range(len(paths)):\n",
    "    df = pd.read_csv(paths[f])\n",
    "    p1=df.loc[(df['latitude'] <14) & (df['latitude'] >13)]\n",
    "    p2=p1.loc[(p1['longitude'] <14) &  (p1['longitude']>13)]\n",
    "    output_dir = './'\n",
    "    filename = os.path.join(output_dir, f'tas_day_CMCC-CESM_rcp85_r1i1p_14_13_14_13_{f}.csv')\n",
    "    print(f'Writing data in tabular form to {filename} (this may take some time)...')\n",
    "    p2.to_csv(filename, index=False)\n",
    "    print('Done')"
   ]
  }
 ],
 "metadata": {
  "kernelspec": {
   "display_name": "Python 3 (ipykernel)",
   "language": "python",
   "name": "python3"
  },
  "language_info": {
   "codemirror_mode": {
    "name": "ipython",
    "version": 3
   },
   "file_extension": ".py",
   "mimetype": "text/x-python",
   "name": "python",
   "nbconvert_exporter": "python",
   "pygments_lexer": "ipython3",
   "version": "3.9.7"
  }
 },
 "nbformat": 4,
 "nbformat_minor": 5
}
