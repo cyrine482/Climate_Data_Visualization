{
 "cells": [
  {
   "cell_type": "code",
   "execution_count": 1,
   "metadata": {},
   "outputs": [],
   "source": [
    "import pandas as pd \n",
    "import numpy as np\n",
    "import dateutil\n",
    "import datetime as dt\n",
    "from lmfit.models import PolynomialModel"
   ]
  },
  {
   "cell_type": "code",
   "execution_count": 2,
   "metadata": {},
   "outputs": [],
   "source": [
    "df = pd.read_csv('Data_temp_tunisia.csv', sep=\";\") "
   ]
  },
  {
   "cell_type": "code",
   "execution_count": 3,
   "metadata": {},
   "outputs": [
    {
     "data": {
      "text/html": [
       "<div>\n",
       "<style scoped>\n",
       "    .dataframe tbody tr th:only-of-type {\n",
       "        vertical-align: middle;\n",
       "    }\n",
       "\n",
       "    .dataframe tbody tr th {\n",
       "        vertical-align: top;\n",
       "    }\n",
       "\n",
       "    .dataframe thead th {\n",
       "        text-align: right;\n",
       "    }\n",
       "</style>\n",
       "<table border=\"1\" class=\"dataframe\">\n",
       "  <thead>\n",
       "    <tr style=\"text-align: right;\">\n",
       "      <th></th>\n",
       "      <th>date</th>\n",
       "      <th>T1</th>\n",
       "      <th>T2</th>\n",
       "      <th>T3</th>\n",
       "      <th>sd</th>\n",
       "      <th>Mtemp</th>\n",
       "    </tr>\n",
       "  </thead>\n",
       "  <tbody>\n",
       "    <tr>\n",
       "      <th>0</th>\n",
       "      <td>1901-01-16</td>\n",
       "      <td>8.9</td>\n",
       "      <td>9.7</td>\n",
       "      <td>9.8</td>\n",
       "      <td>0.493288</td>\n",
       "      <td>9.466667</td>\n",
       "    </tr>\n",
       "    <tr>\n",
       "      <th>1</th>\n",
       "      <td>1901-02-15</td>\n",
       "      <td>8.0</td>\n",
       "      <td>8.5</td>\n",
       "      <td>8.6</td>\n",
       "      <td>0.321455</td>\n",
       "      <td>8.366667</td>\n",
       "    </tr>\n",
       "    <tr>\n",
       "      <th>2</th>\n",
       "      <td>1901-03-16</td>\n",
       "      <td>12.6</td>\n",
       "      <td>13.4</td>\n",
       "      <td>13.3</td>\n",
       "      <td>0.435890</td>\n",
       "      <td>13.100000</td>\n",
       "    </tr>\n",
       "    <tr>\n",
       "      <th>3</th>\n",
       "      <td>1901-04-16</td>\n",
       "      <td>15.7</td>\n",
       "      <td>16.3</td>\n",
       "      <td>16.1</td>\n",
       "      <td>0.305505</td>\n",
       "      <td>16.033333</td>\n",
       "    </tr>\n",
       "    <tr>\n",
       "      <th>4</th>\n",
       "      <td>1901-05-16</td>\n",
       "      <td>17.0</td>\n",
       "      <td>17.1</td>\n",
       "      <td>16.9</td>\n",
       "      <td>0.100000</td>\n",
       "      <td>17.000000</td>\n",
       "    </tr>\n",
       "  </tbody>\n",
       "</table>\n",
       "</div>"
      ],
      "text/plain": [
       "         date    T1    T2    T3        sd      Mtemp\n",
       "0  1901-01-16   8.9   9.7   9.8  0.493288   9.466667\n",
       "1  1901-02-15   8.0   8.5   8.6  0.321455   8.366667\n",
       "2  1901-03-16  12.6  13.4  13.3  0.435890  13.100000\n",
       "3  1901-04-16  15.7  16.3  16.1  0.305505  16.033333\n",
       "4  1901-05-16  17.0  17.1  16.9  0.100000  17.000000"
      ]
     },
     "execution_count": 3,
     "metadata": {},
     "output_type": "execute_result"
    }
   ],
   "source": [
    "df.head()"
   ]
  },
  {
   "cell_type": "code",
   "execution_count": 4,
   "metadata": {},
   "outputs": [
    {
     "name": "stdout",
     "output_type": "stream",
     "text": [
      "<class 'pandas.core.frame.DataFrame'>\n",
      "RangeIndex: 1416 entries, 0 to 1415\n",
      "Data columns (total 6 columns):\n",
      " #   Column  Non-Null Count  Dtype  \n",
      "---  ------  --------------  -----  \n",
      " 0   date    1416 non-null   object \n",
      " 1   T1      1416 non-null   float64\n",
      " 2   T2      1416 non-null   float64\n",
      " 3   T3      1416 non-null   float64\n",
      " 4   sd      1416 non-null   float64\n",
      " 5   Mtemp   1416 non-null   float64\n",
      "dtypes: float64(5), object(1)\n",
      "memory usage: 66.5+ KB\n"
     ]
    }
   ],
   "source": [
    "df.info()"
   ]
  },
  {
   "cell_type": "code",
   "execution_count": 5,
   "metadata": {},
   "outputs": [],
   "source": [
    "df['date'] = df['date'].apply(dateutil.parser.parse, dayfirst=True)"
   ]
  },
  {
   "cell_type": "code",
   "execution_count": 6,
   "metadata": {},
   "outputs": [
    {
     "data": {
      "text/html": [
       "<div>\n",
       "<style scoped>\n",
       "    .dataframe tbody tr th:only-of-type {\n",
       "        vertical-align: middle;\n",
       "    }\n",
       "\n",
       "    .dataframe tbody tr th {\n",
       "        vertical-align: top;\n",
       "    }\n",
       "\n",
       "    .dataframe thead th {\n",
       "        text-align: right;\n",
       "    }\n",
       "</style>\n",
       "<table border=\"1\" class=\"dataframe\">\n",
       "  <thead>\n",
       "    <tr style=\"text-align: right;\">\n",
       "      <th></th>\n",
       "      <th>date</th>\n",
       "      <th>T1</th>\n",
       "      <th>T2</th>\n",
       "      <th>T3</th>\n",
       "      <th>sd</th>\n",
       "      <th>Mtemp</th>\n",
       "    </tr>\n",
       "  </thead>\n",
       "  <tbody>\n",
       "    <tr>\n",
       "      <th>0</th>\n",
       "      <td>1901-01-16</td>\n",
       "      <td>8.9</td>\n",
       "      <td>9.7</td>\n",
       "      <td>9.8</td>\n",
       "      <td>0.493288</td>\n",
       "      <td>9.466667</td>\n",
       "    </tr>\n",
       "    <tr>\n",
       "      <th>1</th>\n",
       "      <td>1901-02-15</td>\n",
       "      <td>8.0</td>\n",
       "      <td>8.5</td>\n",
       "      <td>8.6</td>\n",
       "      <td>0.321455</td>\n",
       "      <td>8.366667</td>\n",
       "    </tr>\n",
       "    <tr>\n",
       "      <th>2</th>\n",
       "      <td>1901-03-16</td>\n",
       "      <td>12.6</td>\n",
       "      <td>13.4</td>\n",
       "      <td>13.3</td>\n",
       "      <td>0.435890</td>\n",
       "      <td>13.100000</td>\n",
       "    </tr>\n",
       "    <tr>\n",
       "      <th>3</th>\n",
       "      <td>1901-04-16</td>\n",
       "      <td>15.7</td>\n",
       "      <td>16.3</td>\n",
       "      <td>16.1</td>\n",
       "      <td>0.305505</td>\n",
       "      <td>16.033333</td>\n",
       "    </tr>\n",
       "    <tr>\n",
       "      <th>4</th>\n",
       "      <td>1901-05-16</td>\n",
       "      <td>17.0</td>\n",
       "      <td>17.1</td>\n",
       "      <td>16.9</td>\n",
       "      <td>0.100000</td>\n",
       "      <td>17.000000</td>\n",
       "    </tr>\n",
       "  </tbody>\n",
       "</table>\n",
       "</div>"
      ],
      "text/plain": [
       "        date    T1    T2    T3        sd      Mtemp\n",
       "0 1901-01-16   8.9   9.7   9.8  0.493288   9.466667\n",
       "1 1901-02-15   8.0   8.5   8.6  0.321455   8.366667\n",
       "2 1901-03-16  12.6  13.4  13.3  0.435890  13.100000\n",
       "3 1901-04-16  15.7  16.3  16.1  0.305505  16.033333\n",
       "4 1901-05-16  17.0  17.1  16.9  0.100000  17.000000"
      ]
     },
     "execution_count": 6,
     "metadata": {},
     "output_type": "execute_result"
    }
   ],
   "source": [
    "df.head()"
   ]
  },
  {
   "cell_type": "code",
   "execution_count": 7,
   "metadata": {},
   "outputs": [
    {
     "name": "stdout",
     "output_type": "stream",
     "text": [
      "<class 'pandas.core.frame.DataFrame'>\n",
      "RangeIndex: 1416 entries, 0 to 1415\n",
      "Data columns (total 6 columns):\n",
      " #   Column  Non-Null Count  Dtype         \n",
      "---  ------  --------------  -----         \n",
      " 0   date    1416 non-null   datetime64[ns]\n",
      " 1   T1      1416 non-null   float64       \n",
      " 2   T2      1416 non-null   float64       \n",
      " 3   T3      1416 non-null   float64       \n",
      " 4   sd      1416 non-null   float64       \n",
      " 5   Mtemp   1416 non-null   float64       \n",
      "dtypes: datetime64[ns](1), float64(5)\n",
      "memory usage: 66.5 KB\n"
     ]
    }
   ],
   "source": [
    "df.info()"
   ]
  },
  {
   "cell_type": "code",
   "execution_count": 8,
   "metadata": {},
   "outputs": [
    {
     "data": {
      "text/html": [
       "<div>\n",
       "<style scoped>\n",
       "    .dataframe tbody tr th:only-of-type {\n",
       "        vertical-align: middle;\n",
       "    }\n",
       "\n",
       "    .dataframe tbody tr th {\n",
       "        vertical-align: top;\n",
       "    }\n",
       "\n",
       "    .dataframe thead th {\n",
       "        text-align: right;\n",
       "    }\n",
       "</style>\n",
       "<table border=\"1\" class=\"dataframe\">\n",
       "  <thead>\n",
       "    <tr style=\"text-align: right;\">\n",
       "      <th></th>\n",
       "      <th>date</th>\n",
       "      <th>T1</th>\n",
       "      <th>T2</th>\n",
       "      <th>T3</th>\n",
       "      <th>sd</th>\n",
       "      <th>Mtemp</th>\n",
       "    </tr>\n",
       "  </thead>\n",
       "  <tbody>\n",
       "    <tr>\n",
       "      <th>1411</th>\n",
       "      <td>2018-08-16</td>\n",
       "      <td>26.4</td>\n",
       "      <td>26.7</td>\n",
       "      <td>26.5</td>\n",
       "      <td>0.152753</td>\n",
       "      <td>26.533333</td>\n",
       "    </tr>\n",
       "    <tr>\n",
       "      <th>1412</th>\n",
       "      <td>2018-09-16</td>\n",
       "      <td>25.8</td>\n",
       "      <td>26.1</td>\n",
       "      <td>25.7</td>\n",
       "      <td>0.208167</td>\n",
       "      <td>25.866667</td>\n",
       "    </tr>\n",
       "    <tr>\n",
       "      <th>1413</th>\n",
       "      <td>2018-10-16</td>\n",
       "      <td>20.0</td>\n",
       "      <td>20.6</td>\n",
       "      <td>20.6</td>\n",
       "      <td>0.346410</td>\n",
       "      <td>20.400000</td>\n",
       "    </tr>\n",
       "    <tr>\n",
       "      <th>1414</th>\n",
       "      <td>2018-11-16</td>\n",
       "      <td>15.4</td>\n",
       "      <td>16.4</td>\n",
       "      <td>16.4</td>\n",
       "      <td>0.577350</td>\n",
       "      <td>16.066667</td>\n",
       "    </tr>\n",
       "    <tr>\n",
       "      <th>1415</th>\n",
       "      <td>2018-12-16</td>\n",
       "      <td>12.4</td>\n",
       "      <td>13.2</td>\n",
       "      <td>13.4</td>\n",
       "      <td>0.529150</td>\n",
       "      <td>13.000000</td>\n",
       "    </tr>\n",
       "  </tbody>\n",
       "</table>\n",
       "</div>"
      ],
      "text/plain": [
       "           date    T1    T2    T3        sd      Mtemp\n",
       "1411 2018-08-16  26.4  26.7  26.5  0.152753  26.533333\n",
       "1412 2018-09-16  25.8  26.1  25.7  0.208167  25.866667\n",
       "1413 2018-10-16  20.0  20.6  20.6  0.346410  20.400000\n",
       "1414 2018-11-16  15.4  16.4  16.4  0.577350  16.066667\n",
       "1415 2018-12-16  12.4  13.2  13.4  0.529150  13.000000"
      ]
     },
     "execution_count": 8,
     "metadata": {},
     "output_type": "execute_result"
    }
   ],
   "source": [
    "df.tail()"
   ]
  },
  {
   "cell_type": "code",
   "execution_count": 9,
   "metadata": {},
   "outputs": [],
   "source": [
    "from lmfit.models import PolynomialModel"
   ]
  },
  {
   "cell_type": "code",
   "execution_count": 17,
   "metadata": {},
   "outputs": [],
   "source": [
    "df['days_since'] = (pd.to_datetime('2018-12-16')-df.date ).astype('timedelta64[D]')"
   ]
  },
  {
   "cell_type": "code",
   "execution_count": 18,
   "metadata": {},
   "outputs": [
    {
     "data": {
      "text/html": [
       "<div>\n",
       "<style scoped>\n",
       "    .dataframe tbody tr th:only-of-type {\n",
       "        vertical-align: middle;\n",
       "    }\n",
       "\n",
       "    .dataframe tbody tr th {\n",
       "        vertical-align: top;\n",
       "    }\n",
       "\n",
       "    .dataframe thead th {\n",
       "        text-align: right;\n",
       "    }\n",
       "</style>\n",
       "<table border=\"1\" class=\"dataframe\">\n",
       "  <thead>\n",
       "    <tr style=\"text-align: right;\">\n",
       "      <th></th>\n",
       "      <th>date</th>\n",
       "      <th>T1</th>\n",
       "      <th>T2</th>\n",
       "      <th>T3</th>\n",
       "      <th>sd</th>\n",
       "      <th>Mtemp</th>\n",
       "      <th>days_since</th>\n",
       "    </tr>\n",
       "  </thead>\n",
       "  <tbody>\n",
       "    <tr>\n",
       "      <th>0</th>\n",
       "      <td>1901-01-16</td>\n",
       "      <td>8.9</td>\n",
       "      <td>9.7</td>\n",
       "      <td>9.8</td>\n",
       "      <td>0.493288</td>\n",
       "      <td>9.466667</td>\n",
       "      <td>43068.0</td>\n",
       "    </tr>\n",
       "    <tr>\n",
       "      <th>1</th>\n",
       "      <td>1901-02-15</td>\n",
       "      <td>8.0</td>\n",
       "      <td>8.5</td>\n",
       "      <td>8.6</td>\n",
       "      <td>0.321455</td>\n",
       "      <td>8.366667</td>\n",
       "      <td>43038.0</td>\n",
       "    </tr>\n",
       "    <tr>\n",
       "      <th>2</th>\n",
       "      <td>1901-03-16</td>\n",
       "      <td>12.6</td>\n",
       "      <td>13.4</td>\n",
       "      <td>13.3</td>\n",
       "      <td>0.435890</td>\n",
       "      <td>13.100000</td>\n",
       "      <td>43009.0</td>\n",
       "    </tr>\n",
       "    <tr>\n",
       "      <th>3</th>\n",
       "      <td>1901-04-16</td>\n",
       "      <td>15.7</td>\n",
       "      <td>16.3</td>\n",
       "      <td>16.1</td>\n",
       "      <td>0.305505</td>\n",
       "      <td>16.033333</td>\n",
       "      <td>42978.0</td>\n",
       "    </tr>\n",
       "    <tr>\n",
       "      <th>4</th>\n",
       "      <td>1901-05-16</td>\n",
       "      <td>17.0</td>\n",
       "      <td>17.1</td>\n",
       "      <td>16.9</td>\n",
       "      <td>0.100000</td>\n",
       "      <td>17.000000</td>\n",
       "      <td>42948.0</td>\n",
       "    </tr>\n",
       "  </tbody>\n",
       "</table>\n",
       "</div>"
      ],
      "text/plain": [
       "        date    T1    T2    T3        sd      Mtemp  days_since\n",
       "0 1901-01-16   8.9   9.7   9.8  0.493288   9.466667     43068.0\n",
       "1 1901-02-15   8.0   8.5   8.6  0.321455   8.366667     43038.0\n",
       "2 1901-03-16  12.6  13.4  13.3  0.435890  13.100000     43009.0\n",
       "3 1901-04-16  15.7  16.3  16.1  0.305505  16.033333     42978.0\n",
       "4 1901-05-16  17.0  17.1  16.9  0.100000  17.000000     42948.0"
      ]
     },
     "execution_count": 18,
     "metadata": {},
     "output_type": "execute_result"
    }
   ],
   "source": [
    "df.head()"
   ]
  },
  {
   "cell_type": "code",
   "execution_count": 19,
   "metadata": {},
   "outputs": [],
   "source": [
    "X = df['days_since']\n",
    "Y=df['Mtemp']"
   ]
  },
  {
   "cell_type": "code",
   "execution_count": 20,
   "metadata": {},
   "outputs": [
    {
     "data": {
      "text/plain": [
       "0       43068.0\n",
       "1       43038.0\n",
       "2       43009.0\n",
       "3       42978.0\n",
       "4       42948.0\n",
       "         ...   \n",
       "1411      122.0\n",
       "1412       91.0\n",
       "1413       61.0\n",
       "1414       30.0\n",
       "1415        0.0\n",
       "Name: days_since, Length: 1416, dtype: float64"
      ]
     },
     "execution_count": 20,
     "metadata": {},
     "output_type": "execute_result"
    }
   ],
   "source": [
    "X\n"
   ]
  },
  {
   "cell_type": "code",
   "execution_count": 21,
   "metadata": {},
   "outputs": [],
   "source": [
    "mod = PolynomialModel(3)\n",
    "pars = mod.guess(Y, x=X)\n",
    "out = mod.fit(Y, pars, x=X)"
   ]
  },
  {
   "cell_type": "code",
   "execution_count": 22,
   "metadata": {},
   "outputs": [
    {
     "name": "stdout",
     "output_type": "stream",
     "text": [
      "[[Model]]\n",
      "    Model(polynomial)\n",
      "[[Fit Statistics]]\n",
      "    # fitting method   = leastsq\n",
      "    # function evals   = 5\n",
      "    # data points      = 1416\n",
      "    # variables        = 4\n",
      "    chi-square         = 49784.1197\n",
      "    reduced chi-square = 35.2578752\n",
      "    Akaike info crit   = 5048.76184\n",
      "    Bayesian info crit = 5069.78421\n",
      "[[Variables]]\n",
      "    c0:  19.6828289 +/- 0.62952549 (3.20%) (init = 19.68283)\n",
      "    c1: -2.0818e-04 +/- 1.2663e-04 (60.83%) (init = -0.0002081812)\n",
      "    c2:  8.0628e-09 +/- 6.8335e-09 (84.75%) (init = 8.062784e-09)\n",
      "    c3: -1.0750e-13 +/- 1.0429e-13 (97.02%) (init = -1.074967e-13)\n",
      "[[Correlations]] (unreported correlations are < 0.250)\n",
      "    C(c2, c3) = -0.986\n",
      "    C(c1, c2) = -0.968\n",
      "    C(c1, c3) =  0.916\n",
      "    C(c0, c1) = -0.865\n",
      "    C(c0, c2) =  0.744\n",
      "    C(c0, c3) = -0.660\n"
     ]
    }
   ],
   "source": [
    "print(out.fit_report(min_correl=0.25))"
   ]
  },
  {
   "cell_type": "code",
   "execution_count": 27,
   "metadata": {
    "scrolled": true
   },
   "outputs": [
    {
     "data": {
      "image/png": "[encoded data removed]",
      "text/plain": [
       "<Figure size 432x288 with 1 Axes>"
      ]
     },
     "metadata": {
      "needs_background": "light"
     },
     "output_type": "display_data"
    }
   ],
   "source": [
    "import matplotlib.pyplot as plt\n",
    "plt.plot(X, Y, 'b')\n",
    "plt.plot(X, out.best_fit, 'k--', label='fitted line')\n",
    "plt.show()"
   ]
  },
  {
   "cell_type": "code",
   "execution_count": 26,
   "metadata": {
    "scrolled": false
   },
   "outputs": [
    {
     "data": {
      "text/html": [
       "<h2> Model</h2> Model(polynomial) <h2>Fit Statistics</h2><table><tr><td>fitting method</td><td>leastsq</td><td></td></tr><tr><td># function evals</td><td>5</td><td></td></tr><tr><td># data points</td><td>1416</td><td></td></tr><tr><td># variables</td><td>4</td><td></td></tr><tr><td>chi-square</td><td> 49784.1197</td><td></td></tr><tr><td>reduced chi-square</td><td> 35.2578752</td><td></td></tr><tr><td>Akaike info crit.</td><td> 5048.76184</td><td></td></tr><tr><td>Bayesian info crit.</td><td> 5069.78421</td><td></td></tr></table><h2>Variables</h2><table><tr><th> name </th><th> value </th><th> standard error </th><th> relative error </th><th> initial value </th><th> min </th><th> max </th><th> vary </th></tr><tr><td> c0 </td><td>  19.6828289 </td><td>  0.62952549 </td><td> (3.20%) </td><td> 19.68282886363065 </td><td>        -inf </td><td>         inf </td><td> True </td></tr><tr><td> c1 </td><td> -2.0818e-04 </td><td>  1.2663e-04 </td><td> (60.83%) </td><td> -0.0002081812432184935 </td><td>        -inf </td><td>         inf </td><td> True </td></tr><tr><td> c2 </td><td>  8.0628e-09 </td><td>  6.8335e-09 </td><td> (84.75%) </td><td> 8.062783961570395e-09 </td><td>        -inf </td><td>         inf </td><td> True </td></tr><tr><td> c3 </td><td> -1.0750e-13 </td><td>  1.0429e-13 </td><td> (97.02%) </td><td> -1.0749667158105656e-13 </td><td>        -inf </td><td>         inf </td><td> True </td></tr></table><h2>Correlations (unreported correlations are < 0.100)</h2><table><tr><td>c2</td><td>c3</td><td>-0.9860</td></tr><tr><td>c1</td><td>c2</td><td>-0.9682</td></tr><tr><td>c1</td><td>c3</td><td>0.9164</td></tr><tr><td>c0</td><td>c1</td><td>-0.8654</td></tr><tr><td>c0</td><td>c2</td><td>0.7444</td></tr><tr><td>c0</td><td>c3</td><td>-0.6604</td></tr></table>"
      ],
      "text/plain": [
       "<lmfit.model.ModelResult at 0x226f480a850>"
      ]
     },
     "execution_count": 26,
     "metadata": {},
     "output_type": "execute_result"
    }
   ],
   "source": [
    "out"
   ]
  },
  {
   "cell_type": "code",
   "execution_count": 31,
   "metadata": {},
   "outputs": [],
   "source": [
    "df.set_index(\"date\", inplace = True)"
   ]
  },
  {
   "cell_type": "code",
   "execution_count": 32,
   "metadata": {},
   "outputs": [],
   "source": [
    "upsampled = df.resample('D')"
   ]
  },
  {
   "cell_type": "code",
   "execution_count": 36,
   "metadata": {},
   "outputs": [
    {
     "name": "stdout",
     "output_type": "stream",
     "text": [
      "DatetimeIndexResampler [freq=<Day>, axis=0, closed=left, label=left, convention=start, origin=start_day]\n"
     ]
    }
   ],
   "source": [
    "print(upsampled)\n"
   ]
  },
  {
   "cell_type": "code",
   "execution_count": 41,
   "metadata": {},
   "outputs": [],
   "source": [
    "interpolated = upsampled.interpolate(method='polynomial',order=3)"
   ]
  },
  {
   "cell_type": "code",
   "execution_count": 42,
   "metadata": {},
   "outputs": [
    {
     "name": "stdout",
     "output_type": "stream",
     "text": [
      "                  T1        T2        T3        sd     Mtemp  days_since\n",
      "date                                                                    \n",
      "1901-01-16  8.900000  9.700000  9.800000  0.493288  9.466667     43068.0\n",
      "1901-01-17  8.686156  9.450520  9.558203  0.475634  9.231626     43067.0\n",
      "1901-01-18  8.488025  9.219041  9.333734  0.459041  9.013600     43066.0\n",
      "1901-01-19  8.305282  9.005184  9.126229  0.443484  8.812231     43065.0\n",
      "1901-01-20  8.137601  8.808566  8.935322  0.428937  8.627163     43064.0\n",
      "1901-01-21  7.984659  8.628807  8.760647  0.415374  8.458037     43063.0\n",
      "1901-01-22  7.846129  8.465526  8.601838  0.402771  8.304498     43062.0\n",
      "1901-01-23  7.721687  8.318343  8.458530  0.391100  8.166187     43061.0\n",
      "1901-01-24  7.611007  8.186876  8.330359  0.380338  8.042747     43060.0\n",
      "1901-01-25  7.513765  8.070744  8.216957  0.370458  7.933822     43059.0\n",
      "1901-01-26  7.429635  7.969568  8.117959  0.361434  7.839054     43058.0\n",
      "1901-01-27  7.358292  7.882965  8.033001  0.353241  7.758086     43057.0\n",
      "1901-01-28  7.299412  7.810555  7.961715  0.345854  7.690561     43056.0\n",
      "1901-01-29  7.252669  7.751958  7.903738  0.339247  7.636121     43055.0\n",
      "1901-01-30  7.217737  7.706791  7.858703  0.333394  7.594410     43054.0\n",
      "1901-01-31  7.194293  7.674675  7.826244  0.328270  7.565071     43053.0\n",
      "1901-02-01  7.182010  7.655229  7.805997  0.323849  7.547745     43052.0\n",
      "1901-02-02  7.180565  7.648071  7.797595  0.320105  7.542077     43051.0\n",
      "1901-02-03  7.189630  7.652822  7.800674  0.317013  7.547709     43050.0\n",
      "1901-02-04  7.208883  7.669099  7.814866  0.314548  7.564283     43049.0\n",
      "1901-02-05  7.237997  7.696522  7.839808  0.312684  7.591442     43048.0\n",
      "1901-02-06  7.276647  7.734710  7.875134  0.311394  7.628830     43047.0\n",
      "1901-02-07  7.324509  7.783283  7.920477  0.310655  7.676090     43046.0\n",
      "1901-02-08  7.381257  7.841859  7.975472  0.310439  7.732863     43045.0\n",
      "1901-02-09  7.446566  7.910058  8.039755  0.310722  7.798793     43044.0\n",
      "1901-02-10  7.520111  7.987499  8.112958  0.311478  7.873523     43043.0\n",
      "1901-02-11  7.601567  8.073801  8.194717  0.312681  7.956695     43042.0\n",
      "1901-02-12  7.690609  8.168583  8.284667  0.314306  8.047953     43041.0\n",
      "1901-02-13  7.786912  8.271464  8.382441  0.316327  8.146939     43040.0\n",
      "1901-02-14  7.890151  8.382063  8.487674  0.318718  8.253296     43039.0\n",
      "1901-02-15  8.000000  8.500000  8.600000  0.321455  8.366667     43038.0\n",
      "1901-02-16  8.116135  8.624893  8.719054  0.324511  8.486694     43037.0\n"
     ]
    }
   ],
   "source": [
    "print(interpolated.head(32))"
   ]
  },
  {
   "cell_type": "code",
   "execution_count": 43,
   "metadata": {},
   "outputs": [
    {
     "name": "stdout",
     "output_type": "stream",
     "text": [
      "<class 'pandas.core.frame.DataFrame'>\n",
      "DatetimeIndex: 43069 entries, 1901-01-16 to 2018-12-16\n",
      "Freq: D\n",
      "Data columns (total 6 columns):\n",
      " #   Column      Non-Null Count  Dtype  \n",
      "---  ------      --------------  -----  \n",
      " 0   T1          43069 non-null  float64\n",
      " 1   T2          43069 non-null  float64\n",
      " 2   T3          43069 non-null  float64\n",
      " 3   sd          43069 non-null  float64\n",
      " 4   Mtemp       43069 non-null  float64\n",
      " 5   days_since  43069 non-null  float64\n",
      "dtypes: float64(6)\n",
      "memory usage: 2.3 MB\n"
     ]
    }
   ],
   "source": [
    "interpolated.info()"
   ]
  },
  {
   "cell_type": "code",
   "execution_count": 45,
   "metadata": {},
   "outputs": [
    {
     "name": "stdout",
     "output_type": "stream",
     "text": [
      "<class 'pandas.core.frame.DataFrame'>\n",
      "RangeIndex: 1416 entries, 0 to 1415\n",
      "Data columns (total 7 columns):\n",
      " #   Column      Non-Null Count  Dtype  \n",
      "---  ------      --------------  -----  \n",
      " 0   index       1416 non-null   int64  \n",
      " 1   T1          1416 non-null   float64\n",
      " 2   T2          1416 non-null   float64\n",
      " 3   T3          1416 non-null   float64\n",
      " 4   sd          1416 non-null   float64\n",
      " 5   Mtemp       1416 non-null   float64\n",
      " 6   days_since  1416 non-null   float64\n",
      "dtypes: float64(6), int64(1)\n",
      "memory usage: 77.6 KB\n"
     ]
    }
   ],
   "source": [
    "df.reset_index( inplace=True)\n",
    "df.info()"
   ]
  },
  {
   "cell_type": "code",
   "execution_count": 47,
   "metadata": {},
   "outputs": [],
   "source": [
    "interpolated.reset_index( inplace=True)"
   ]
  },
  {
   "cell_type": "code",
   "execution_count": 48,
   "metadata": {},
   "outputs": [
    {
     "data": {
      "text/html": [
       "<div>\n",
       "<style scoped>\n",
       "    .dataframe tbody tr th:only-of-type {\n",
       "        vertical-align: middle;\n",
       "    }\n",
       "\n",
       "    .dataframe tbody tr th {\n",
       "        vertical-align: top;\n",
       "    }\n",
       "\n",
       "    .dataframe thead th {\n",
       "        text-align: right;\n",
       "    }\n",
       "</style>\n",
       "<table border=\"1\" class=\"dataframe\">\n",
       "  <thead>\n",
       "    <tr style=\"text-align: right;\">\n",
       "      <th></th>\n",
       "      <th>date</th>\n",
       "      <th>T1</th>\n",
       "      <th>T2</th>\n",
       "      <th>T3</th>\n",
       "      <th>sd</th>\n",
       "      <th>Mtemp</th>\n",
       "      <th>days_since</th>\n",
       "    </tr>\n",
       "  </thead>\n",
       "  <tbody>\n",
       "    <tr>\n",
       "      <th>0</th>\n",
       "      <td>1901-01-16</td>\n",
       "      <td>8.900000</td>\n",
       "      <td>9.700000</td>\n",
       "      <td>9.800000</td>\n",
       "      <td>0.493288</td>\n",
       "      <td>9.466667</td>\n",
       "      <td>43068.0</td>\n",
       "    </tr>\n",
       "    <tr>\n",
       "      <th>1</th>\n",
       "      <td>1901-01-17</td>\n",
       "      <td>8.686156</td>\n",
       "      <td>9.450520</td>\n",
       "      <td>9.558203</td>\n",
       "      <td>0.475634</td>\n",
       "      <td>9.231626</td>\n",
       "      <td>43067.0</td>\n",
       "    </tr>\n",
       "    <tr>\n",
       "      <th>2</th>\n",
       "      <td>1901-01-18</td>\n",
       "      <td>8.488025</td>\n",
       "      <td>9.219041</td>\n",
       "      <td>9.333734</td>\n",
       "      <td>0.459041</td>\n",
       "      <td>9.013600</td>\n",
       "      <td>43066.0</td>\n",
       "    </tr>\n",
       "    <tr>\n",
       "      <th>3</th>\n",
       "      <td>1901-01-19</td>\n",
       "      <td>8.305282</td>\n",
       "      <td>9.005184</td>\n",
       "      <td>9.126229</td>\n",
       "      <td>0.443484</td>\n",
       "      <td>8.812231</td>\n",
       "      <td>43065.0</td>\n",
       "    </tr>\n",
       "    <tr>\n",
       "      <th>4</th>\n",
       "      <td>1901-01-20</td>\n",
       "      <td>8.137601</td>\n",
       "      <td>8.808566</td>\n",
       "      <td>8.935322</td>\n",
       "      <td>0.428937</td>\n",
       "      <td>8.627163</td>\n",
       "      <td>43064.0</td>\n",
       "    </tr>\n",
       "  </tbody>\n",
       "</table>\n",
       "</div>"
      ],
      "text/plain": [
       "        date        T1        T2        T3        sd     Mtemp  days_since\n",
       "0 1901-01-16  8.900000  9.700000  9.800000  0.493288  9.466667     43068.0\n",
       "1 1901-01-17  8.686156  9.450520  9.558203  0.475634  9.231626     43067.0\n",
       "2 1901-01-18  8.488025  9.219041  9.333734  0.459041  9.013600     43066.0\n",
       "3 1901-01-19  8.305282  9.005184  9.126229  0.443484  8.812231     43065.0\n",
       "4 1901-01-20  8.137601  8.808566  8.935322  0.428937  8.627163     43064.0"
      ]
     },
     "execution_count": 48,
     "metadata": {},
     "output_type": "execute_result"
    }
   ],
   "source": [
    "interpolated.head()"
   ]
  },
  {
   "cell_type": "code",
   "execution_count": 49,
   "metadata": {},
   "outputs": [],
   "source": [
    "Tmean= interpolated['Mtemp']\n",
    "date=interpolated['date']"
   ]
  },
  {
   "cell_type": "code",
   "execution_count": 52,
   "metadata": {},
   "outputs": [],
   "source": [
    "header = [\"date\", \"Mtemp\"]\n",
    "interpolated.to_csv('output.csv', columns = header, index=False)"
   ]
  }
 ],
 "metadata": {
  "kernelspec": {
   "display_name": "Python 3 (ipykernel)",
   "language": "python",
   "name": "python3"
  },
  "language_info": {
   "codemirror_mode": {
    "name": "ipython",
    "version": 3
   },
   "file_extension": ".py",
   "mimetype": "text/x-python",
   "name": "python",
   "nbconvert_exporter": "python",
   "pygments_lexer": "ipython3",
   "version": "3.9.7"
  }
 },
 "nbformat": 4,
 "nbformat_minor": 4
}
